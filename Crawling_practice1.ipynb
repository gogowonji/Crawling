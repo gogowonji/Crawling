{
  "nbformat": 4,
  "nbformat_minor": 0,
  "metadata": {
    "colab": {
      "name": "Crawling_practice1.ipynb",
      "provenance": [],
      "authorship_tag": "ABX9TyPQTJ89PjoPEdjSyZdM6hDu",
      "include_colab_link": true
    },
    "kernelspec": {
      "name": "python3",
      "display_name": "Python 3"
    },
    "language_info": {
      "name": "python"
    }
  },
  "cells": [
    {
      "cell_type": "markdown",
      "metadata": {
        "id": "view-in-github",
        "colab_type": "text"
      },
      "source": [
        "<a href=\"https://colab.research.google.com/github/gogowonji/Crawling/blob/main/Crawling_practice1.ipynb\" target=\"_parent\"><img src=\"https://colab.research.google.com/assets/colab-badge.svg\" alt=\"Open In Colab\"/></a>"
      ]
    },
    {
      "cell_type": "code",
      "execution_count": 5,
      "metadata": {
        "id": "xdXnsrktzwnw"
      },
      "outputs": [],
      "source": [
        "import requests\n",
        "from bs4 import BeautifulSoup"
      ]
    },
    {
      "cell_type": "code",
      "source": [
        "response = requests.get(\"https://www.naver.com\")\n",
        "html = response.text\n",
        "soup = BeautifulSoup(html, 'html.parser') #html code, 번역 선생님\n",
        "word = soup.select_one('#NM_set_home_btn') # 샾은 id 선택시 써줘야 함, 선택자는 그냥 선택자 이름, 클래스는 .classname, 하위 태그는 >\n",
        "print(word.text)"
      ],
      "metadata": {
        "colab": {
          "base_uri": "https://localhost:8080/"
        },
        "id": "BljVa3Zuz5cj",
        "outputId": "4ecf0128-3dd0-484c-f786-3c62d8a6bb13"
      },
      "execution_count": 7,
      "outputs": [
        {
          "output_type": "stream",
          "name": "stdout",
          "text": [
            "네이버를 시작페이지로\n"
          ]
        }
      ]
    },
    {
      "cell_type": "code",
      "source": [
        "# 뉴스 제목과 링크 가져오기\n",
        "response = requests.get(\"https://search.naver.com/search.naver?where=news&sm=tab_jum&query=%EC%82%BC%EC%84%B1%EC%A0%84%EC%9E%90\")\n",
        "html = response.text\n",
        "soup = BeautifulSoup(html, 'html.parser')\n",
        "links = soup.select('.news_tit') # 결과는 리스트\n",
        "print(links)\n"
      ],
      "metadata": {
        "colab": {
          "base_uri": "https://localhost:8080/"
        },
        "id": "kD7SPWhq1BHW",
        "outputId": "4ef4c4ca-d772-4d53-a48e-f79acfdb289d"
      },
      "execution_count": 10,
      "outputs": [
        {
          "output_type": "stream",
          "name": "stdout",
          "text": [
            "[<a class=\"news_tit\" href=\"https://view.asiae.co.kr/article/2022062909004977149\" onclick=\"return goOtherCR(this, 'a=nws*h.tit&amp;r=1&amp;i=88000385_000000000000000005110254&amp;g=277.0005110254&amp;u='+urlencode(this.href));\" target=\"_blank\" title='재고 쌓이는 세계 제조업…\"삼성전자 증가폭 1위\"'>재고 쌓이는 세계 제조업…\"<mark>삼성전자</mark> 증가폭 1위\"</a>, <a class=\"news_tit\" href=\"http://www.etnews.com/20220629000181\" onclick=\"return goOtherCR(this, 'a=nws*h.tit&amp;r=4&amp;i=880000EA_000000000000000003026770&amp;g=030.0003026770&amp;u='+urlencode(this.href));\" target=\"_blank\" title=\"삼성D, 독일 OLED 재료업체에 3억달러 투자…IP 인수\"><mark>삼성</mark>D, 독일 OLED 재료업체에 3억달러 투자…IP 인수</a>, <a class=\"news_tit\" href=\"https://www.yna.co.kr/view/AKR20220629048200003?input=1195m\" onclick=\"return goOtherCR(this, 'a=nws*a.tit&amp;r=6&amp;i=880000D8_000000000000000013276282&amp;g=001.0013276282&amp;u='+urlencode(this.href));\" target=\"_blank\" title=\"삼성전자, '스마트싱스 에너지' 업데이트…AI 절약모드 확대\"><mark>삼성전자</mark>, '스마트싱스 에너지' 업데이트…AI 절약모드 확대</a>, <a class=\"news_tit\" href=\"http://www.edaily.co.kr/news/newspath.asp?newsid=03486646632366640\" onclick=\"return goOtherCR(this, 'a=nws*h.tit&amp;r=9&amp;i=880000E7_000000000000000005255115&amp;g=018.0005255115&amp;u='+urlencode(this.href));\" target=\"_blank\" title=\"삼성전자 목표가 낮춘 외국계 證…“반도체 수요 약세”\"><mark>삼성전자</mark> 목표가 낮춘 외국계 證…“반도체 수요 약세”</a>, <a class=\"news_tit\" href=\"http://news.mt.co.kr/mtview.php?no=2022062908572793006\" onclick=\"return goOtherCR(this, 'a=nws*a.tit&amp;r=12&amp;i=880000C2_000000000000000004764504&amp;g=008.0004764504&amp;u='+urlencode(this.href));\" target=\"_blank\" title=\"전기료 부담 뚝…삼성전자 '스마트싱스 에너지' 서비스 강화\">전기료 부담 뚝…<mark>삼성전자</mark> '스마트싱스 에너지' 서비스 강화</a>, <a class=\"news_tit\" href=\"http://www.newsis.com/view/?id=NISX20220629_0001924471&amp;cID=13001&amp;pID=13000\" onclick=\"return goOtherCR(this, 'a=nws*a.tit&amp;r=17&amp;i=88000127_000000000000000011274132&amp;g=003.0011274132&amp;u='+urlencode(this.href));\" target=\"_blank\" title=\"&quot;AI로 새는 전력 관리&quot;…삼성, '스마트싱스 에너지' 확대\">\"AI로 새는 전력 관리\"…<mark>삼성</mark>, '스마트싱스 에너지' 확대</a>, <a class=\"news_tit\" href=\"http://www.dt.co.kr/contents.html?article_no=2022062902109931731003&amp;ref=naver\" onclick=\"return goOtherCR(this, 'a=nws*a.tit&amp;r=22&amp;i=880000AD_000000000000000002741409&amp;g=029.0002741409&amp;u='+urlencode(this.href));\" target=\"_blank\" title=\"삼성전자 반도체 장비 소부장 기업 지원\"><mark>삼성전자</mark> 반도체 장비 소부장 기업 지원</a>, <a class=\"news_tit\" href=\"https://www.sedaily.com/NewsView/267FNDZU4C\" onclick=\"return goOtherCR(this, 'a=nws*h.tit&amp;r=24&amp;i=88000108_000000000000000004070617&amp;g=011.0004070617&amp;u='+urlencode(this.href));\" target=\"_blank\" title=\"[단독] 삼성, 8년만에 반도체 R&amp;D센터 짓는다…이재용 '기술 초격차' 첨병\">[단독] <mark>삼성</mark>, 8년만에 반도체 R&amp;D센터 짓는다…이재용 '기술 초격차' 첨병</a>, <a class=\"news_tit\" href=\"http://www.inews24.com/view/1495244\" onclick=\"return goOtherCR(this, 'a=nws*h.tit&amp;r=26&amp;i=880000D6_000000000000000000681896&amp;g=031.0000681896&amp;u='+urlencode(this.href));\" target=\"_blank\" title=\"세계 최초 '3나노'로 TSMC 넘는 삼성…퀄컴이 힘 실을까\">세계 최초 '3나노'로 TSMC 넘는 <mark>삼성</mark>…퀄컴이 힘 실을까</a>, <a class=\"news_tit\" href=\"https://zdnet.co.kr/view/?no=20220629135355\" onclick=\"return goOtherCR(this, 'a=nws*h.tit&amp;r=31&amp;i=8800011E_000000000000000002261023&amp;g=092.0002261023&amp;u='+urlencode(this.href));\" target=\"_blank\" title=\"중기부, 삼성과 손잡고 팹리스 5곳 지원\">중기부, <mark>삼성</mark>과 손잡고 팹리스 5곳 지원</a>]\n"
          ]
        }
      ]
    },
    {
      "cell_type": "code",
      "source": [
        "for link in links:\n",
        "  title = link.text #태그 안에 텍스트 요소 가져옴\n",
        "  url = link.attrs['href'] # href 속성값 가져옴\n",
        "  print(title, url)"
      ],
      "metadata": {
        "colab": {
          "base_uri": "https://localhost:8080/"
        },
        "id": "YCIEVone279m",
        "outputId": "6493d4cd-d871-431e-e808-70b1c525ebef"
      },
      "execution_count": 11,
      "outputs": [
        {
          "output_type": "stream",
          "name": "stdout",
          "text": [
            "재고 쌓이는 세계 제조업…\"삼성전자 증가폭 1위\" https://view.asiae.co.kr/article/2022062909004977149\n",
            "삼성D, 독일 OLED 재료업체에 3억달러 투자…IP 인수 http://www.etnews.com/20220629000181\n",
            "삼성전자, '스마트싱스 에너지' 업데이트…AI 절약모드 확대 https://www.yna.co.kr/view/AKR20220629048200003?input=1195m\n",
            "삼성전자 목표가 낮춘 외국계 證…“반도체 수요 약세” http://www.edaily.co.kr/news/newspath.asp?newsid=03486646632366640\n",
            "전기료 부담 뚝…삼성전자 '스마트싱스 에너지' 서비스 강화 http://news.mt.co.kr/mtview.php?no=2022062908572793006\n",
            "\"AI로 새는 전력 관리\"…삼성, '스마트싱스 에너지' 확대 http://www.newsis.com/view/?id=NISX20220629_0001924471&cID=13001&pID=13000\n",
            "삼성전자 반도체 장비 소부장 기업 지원 http://www.dt.co.kr/contents.html?article_no=2022062902109931731003&ref=naver\n",
            "[단독] 삼성, 8년만에 반도체 R&D센터 짓는다…이재용 '기술 초격차' 첨병 https://www.sedaily.com/NewsView/267FNDZU4C\n",
            "세계 최초 '3나노'로 TSMC 넘는 삼성…퀄컴이 힘 실을까 http://www.inews24.com/view/1495244\n",
            "중기부, 삼성과 손잡고 팹리스 5곳 지원 https://zdnet.co.kr/view/?no=20220629135355\n"
          ]
        }
      ]
    },
    {
      "cell_type": "code",
      "source": [
        ""
      ],
      "metadata": {
        "id": "UJPJBZmr3OEg"
      },
      "execution_count": null,
      "outputs": []
    }
  ]
}