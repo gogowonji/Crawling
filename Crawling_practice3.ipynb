{
  "nbformat": 4,
  "nbformat_minor": 0,
  "metadata": {
    "colab": {
      "name": "Crawling_practice3.ipynb",
      "provenance": [],
      "authorship_tag": "ABX9TyPRmoaPqkZrF8DBCRU+JX2o",
      "include_colab_link": true
    },
    "kernelspec": {
      "name": "python3",
      "display_name": "Python 3"
    },
    "language_info": {
      "name": "python"
    }
  },
  "cells": [
    {
      "cell_type": "markdown",
      "metadata": {
        "id": "view-in-github",
        "colab_type": "text"
      },
      "source": [
        "<a href=\"https://colab.research.google.com/github/gogowonji/Crawling/blob/main/Crawling_practice3.ipynb\" target=\"_parent\"><img src=\"https://colab.research.google.com/assets/colab-badge.svg\" alt=\"Open In Colab\"/></a>"
      ]
    },
    {
      "cell_type": "code",
      "execution_count": 1,
      "metadata": {
        "id": "58kl8EYiBNJN"
      },
      "outputs": [],
      "source": [
        "import requests\n",
        "from bs4 import BeautifulSoup"
      ]
    },
    {
      "cell_type": "code",
      "source": [
        "# 종목 코드 리스트\n",
        "codes = [\n",
        "         '005930',\n",
        "         '003490',\n",
        "         '000660'\n",
        "]\n",
        "for code in codes:\n",
        "  url = f\"https://finance.naver.com/item/sise.naver?code={code}\"\n",
        "  response = requests.get(url)\n",
        "  html = response.text\n",
        "  soup = BeautifulSoup(html, 'html.parser')\n",
        "  val = soup.select_one('#_nowVal').text\n",
        "  val = val.replace(',','')\n",
        "  print(val)\n",
        "\n"
      ],
      "metadata": {
        "colab": {
          "base_uri": "https://localhost:8080/"
        },
        "id": "LGG7YpLeBPbz",
        "outputId": "739ad625-d77c-4f38-a08d-2b1f7b67de19"
      },
      "execution_count": 6,
      "outputs": [
        {
          "output_type": "stream",
          "name": "stdout",
          "text": [
            "58000\n",
            "25400\n",
            "94000\n"
          ]
        }
      ]
    },
    {
      "cell_type": "code",
      "source": [
        ""
      ],
      "metadata": {
        "id": "8ybAtjV8B0RW"
      },
      "execution_count": null,
      "outputs": []
    }
  ]
}