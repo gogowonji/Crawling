{
  "nbformat": 4,
  "nbformat_minor": 0,
  "metadata": {
    "colab": {
      "name": "Crawling_practice2.ipynb",
      "provenance": [],
      "collapsed_sections": [],
      "authorship_tag": "ABX9TyOyfsKlBKiyXwcUzorFaG/j",
      "include_colab_link": true
    },
    "kernelspec": {
      "name": "python3",
      "display_name": "Python 3"
    },
    "language_info": {
      "name": "python"
    }
  },
  "cells": [
    {
      "cell_type": "markdown",
      "metadata": {
        "id": "view-in-github",
        "colab_type": "text"
      },
      "source": [
        "<a href=\"https://colab.research.google.com/github/gogowonji/Crawling/blob/main/Crawling_practice2.ipynb\" target=\"_parent\"><img src=\"https://colab.research.google.com/assets/colab-badge.svg\" alt=\"Open In Colab\"/></a>"
      ]
    },
    {
      "cell_type": "code",
      "execution_count": 15,
      "metadata": {
        "id": "9p6AFwl430oE"
      },
      "outputs": [],
      "source": [
        "import requests\n",
        "from bs4 import BeautifulSoup"
      ]
    },
    {
      "cell_type": "code",
      "source": [
        "keyword = input(\"검색어를 입력하세요 : \")\n",
        "lastpage = input(\"마지막 페이지 번호를 입력해 주세요 : \")\n",
        "pagenum = 1\n",
        "for i in range(1,int(lastpage)*10,10):\n",
        "  print(f\"{pagenum}페이지 ======================\")\n",
        "  response = requests.get(f\"https://search.naver.com/search.naver?where=news&query={keyword}&sm=tab_opt&sort=0&photo=0&field=0&pd=0&ds=&de=&docid=&related=0&mynews=0&office_type=0&office_section_code=0&news_office_checked=&nso=so%3Ar%2Cp%3Aall&is_sug_officeid=0&start={i}\")\n",
        "  html = response.text\n",
        "  soup = BeautifulSoup(html, 'html.parser')\n",
        "  links = soup.select('.news_tit') # 결과는 리스트\n",
        "  print(links)\n",
        "  for link in links:\n",
        "    title = link.text #태그 안에 텍스트 요소 가져옴\n",
        "    url = link.attrs['href'] # href 속성값 가져옴\n",
        "    print(title, url)\n",
        "  pagenum+=1\n"
      ],
      "metadata": {
        "colab": {
          "base_uri": "https://localhost:8080/"
        },
        "id": "aFXz-0zf5UMy",
        "outputId": "b25dafb9-6728-439d-ef93-de754865d232"
      },
      "execution_count": 25,
      "outputs": [
        {
          "output_type": "stream",
          "name": "stdout",
          "text": [
            "검색어를 입력하세요 : 삼성전자\n",
            "마지막 페이지 번호를 입력해 주세요 : 3\n",
            "1페이지 ======================\n",
            "[<a class=\"news_tit\" href=\"https://www.yna.co.kr/view/AKR20220629048200003?input=1195m\" onclick=\"return goOtherCR(this, 'a=nws*a.tit&amp;r=1&amp;i=880000D8_000000000000000013276282&amp;g=001.0013276282&amp;u='+urlencode(this.href));\" target=\"_blank\" title=\"삼성전자, '스마트싱스 에너지' 업데이트…AI 절약모드 확대\"><mark>삼성전자</mark>, '스마트싱스 에너지' 업데이트…AI 절약모드 확대</a>, <a class=\"news_tit\" href=\"http://www.edaily.co.kr/news/newspath.asp?newsid=03486646632366640\" onclick=\"return goOtherCR(this, 'a=nws*h.tit&amp;r=4&amp;i=880000E7_000000000000000005255115&amp;g=018.0005255115&amp;u='+urlencode(this.href));\" target=\"_blank\" title=\"삼성전자 목표가 낮춘 외국계 證…“반도체 수요 약세”\"><mark>삼성전자</mark> 목표가 낮춘 외국계 證…“반도체 수요 약세”</a>, <a class=\"news_tit\" href=\"http://news.mt.co.kr/mtview.php?no=2022062908572793006\" onclick=\"return goOtherCR(this, 'a=nws*a.tit&amp;r=7&amp;i=880000C2_000000000000000004764504&amp;g=008.0004764504&amp;u='+urlencode(this.href));\" target=\"_blank\" title=\"전기료 부담 뚝…삼성전자 '스마트싱스 에너지' 서비스 강화\">전기료 부담 뚝…<mark>삼성전자</mark> '스마트싱스 에너지' 서비스 강화</a>, <a class=\"news_tit\" href=\"http://www.newsis.com/view/?id=NISX20220629_0001924471&amp;cID=13001&amp;pID=13000\" onclick=\"return goOtherCR(this, 'a=nws*a.tit&amp;r=12&amp;i=88000127_000000000000000011274132&amp;g=003.0011274132&amp;u='+urlencode(this.href));\" target=\"_blank\" title=\"&quot;AI로 새는 전력 관리&quot;…삼성, '스마트싱스 에너지' 확대\">\"AI로 새는 전력 관리\"…<mark>삼성</mark>, '스마트싱스 에너지' 확대</a>, <a class=\"news_tit\" href=\"https://www.insight.co.kr/news/401608\" onclick=\"return goOtherCR(this, 'a=nws*b.tit&amp;r=17&amp;i=88172c03_000000000000000000215880&amp;g=5486.0000215880&amp;u='+urlencode(this.href));\" target=\"_blank\" title=\"삼성전자, 여름철 맞아 '스마트싱스 에너지' 서비스 강화한다\"><mark>삼성전자</mark>, 여름철 맞아 '스마트싱스 에너지' 서비스 강화한다</a>, <a class=\"news_tit\" href=\"https://www.sedaily.com/NewsView/267FNDZU4C\" onclick=\"return goOtherCR(this, 'a=nws*j.tit&amp;r=20&amp;i=88000108_000000000000000004070617&amp;g=011.0004070617&amp;u='+urlencode(this.href));\" target=\"_blank\" title=\"[단독] 삼성, 8년만에 반도체 R&amp;D센터 짓는다…이재용 '기술 초격차' 첨병\">[단독] <mark>삼성</mark>, 8년만에 반도체 R&amp;D센터 짓는다…이재용 '기술 초격차' 첨병</a>, <a class=\"news_tit\" href=\"http://www.inews24.com/view/1495244\" onclick=\"return goOtherCR(this, 'a=nws*h.tit&amp;r=21&amp;i=880000D6_000000000000000000681896&amp;g=031.0000681896&amp;u='+urlencode(this.href));\" target=\"_blank\" title=\"세계 최초 '3나노'로 TSMC 넘는 삼성…퀄컴이 힘 실을까\">세계 최초 '3나노'로 TSMC 넘는 <mark>삼성</mark>…퀄컴이 힘 실을까</a>, <a class=\"news_tit\" href=\"https://view.asiae.co.kr/article/2022062909004977149\" onclick=\"return goOtherCR(this, 'a=nws*j.tit&amp;r=26&amp;i=88000385_000000000000000005110254&amp;g=277.0005110254&amp;u='+urlencode(this.href));\" target=\"_blank\" title='재고 쌓이는 세계 제조업…\"삼성전자 증가폭 1위\"'>재고 쌓이는 세계 제조업…\"<mark>삼성전자</mark> 증가폭 1위\"</a>, <a class=\"news_tit\" href=\"http://www.etnews.com/20220629000181\" onclick=\"return goOtherCR(this, 'a=nws*j.tit&amp;r=27&amp;i=880000EA_000000000000000003026770&amp;g=030.0003026770&amp;u='+urlencode(this.href));\" target=\"_blank\" title=\"삼성D, 독일 OLED 재료업체에 3억달러 투자…IP 인수\"><mark>삼성</mark>D, 독일 OLED 재료업체에 3억달러 투자…IP 인수</a>, <a class=\"news_tit\" href=\"https://biz.chosun.com/international/international_economy/2022/06/29/Y5P4SA5WN5BNVN7WT6VWWV4GHQ/?utm_source=naver&amp;utm_medium=original&amp;utm_campaign=biz\" onclick=\"return goOtherCR(this, 'a=nws*h.tit&amp;r=28&amp;i=88127058_000000000000000000824172&amp;g=366.0000824172&amp;u='+urlencode(this.href));\" target=\"_blank\" title=\"“세계 주요 제조업체 재고 10년 내 최대… 1위 삼성전자”\">“세계 주요 제조업체 재고 10년 내 최대… 1위 <mark>삼성전자</mark>”</a>]\n",
            "삼성전자, '스마트싱스 에너지' 업데이트…AI 절약모드 확대 https://www.yna.co.kr/view/AKR20220629048200003?input=1195m\n",
            "삼성전자 목표가 낮춘 외국계 證…“반도체 수요 약세” http://www.edaily.co.kr/news/newspath.asp?newsid=03486646632366640\n",
            "전기료 부담 뚝…삼성전자 '스마트싱스 에너지' 서비스 강화 http://news.mt.co.kr/mtview.php?no=2022062908572793006\n",
            "\"AI로 새는 전력 관리\"…삼성, '스마트싱스 에너지' 확대 http://www.newsis.com/view/?id=NISX20220629_0001924471&cID=13001&pID=13000\n",
            "삼성전자, 여름철 맞아 '스마트싱스 에너지' 서비스 강화한다 https://www.insight.co.kr/news/401608\n",
            "[단독] 삼성, 8년만에 반도체 R&D센터 짓는다…이재용 '기술 초격차' 첨병 https://www.sedaily.com/NewsView/267FNDZU4C\n",
            "세계 최초 '3나노'로 TSMC 넘는 삼성…퀄컴이 힘 실을까 http://www.inews24.com/view/1495244\n",
            "재고 쌓이는 세계 제조업…\"삼성전자 증가폭 1위\" https://view.asiae.co.kr/article/2022062909004977149\n",
            "삼성D, 독일 OLED 재료업체에 3억달러 투자…IP 인수 http://www.etnews.com/20220629000181\n",
            "“세계 주요 제조업체 재고 10년 내 최대… 1위 삼성전자” https://biz.chosun.com/international/international_economy/2022/06/29/Y5P4SA5WN5BNVN7WT6VWWV4GHQ/?utm_source=naver&utm_medium=original&utm_campaign=biz\n",
            "2페이지 ======================\n",
            "[<a class=\"news_tit\" href=\"http://news.mk.co.kr/newsRead.php?no=571007&amp;year=2022\" onclick=\"return goOtherCR(this, 'a=nws*j.tit&amp;r=1&amp;i=880000BC_000000000000000004984750&amp;g=009.0004984750&amp;u='+urlencode(this.href));\" target=\"_blank\" title=\"&quot;1나노 차이가 초격차 만든다&quot; 삼성 양산 앞둔 '3나노 반도체'는?\">\"1나노 차이가 초격차 만든다\" <mark>삼성</mark> 양산 앞둔 '3나노 반도체'는?</a>, <a class=\"news_tit\" href=\"https://www.yna.co.kr/view/AKR20220628164900003?input=1195m\" onclick=\"return goOtherCR(this, 'a=nws*e.tit&amp;r=2&amp;i=880000D8_000000000000000013275572&amp;g=001.0013275572&amp;u='+urlencode(this.href));\" target=\"_blank\" title=\"삼성전자-하이닉스, '임금 경쟁' 치열…2년만에 초봉 700만원↑\"><mark>삼성전자</mark>-하이닉스, '임금 경쟁' 치열…2년만에 초봉 700만원↑</a>, <a class=\"news_tit\" href=\"https://www.hankyung.com/economy/article/202206281413g\" onclick=\"return goOtherCR(this, 'a=nws*h.tit&amp;r=3&amp;i=88000107_000000000000000004717559&amp;g=015.0004717559&amp;u='+urlencode(this.href));\" target=\"_blank\" title='\"올 여름도 수요 걱정 없다\"…200만대 넘게 팔린 삼성 가전'>\"올 여름도 수요 걱정 없다\"…200만대 넘게 팔린 <mark>삼성</mark> 가전</a>, <a class=\"news_tit\" href=\"https://www.sedaily.com/NewsView/267FONMH0M\" onclick=\"return goOtherCR(this, 'a=nws*e.tit&amp;r=8&amp;i=88000108_000000000000000004070737&amp;g=011.0004070737&amp;u='+urlencode(this.href));\" target=\"_blank\" title=\"[단독] 삼성전자, 8년만에 반도체 R&amp;D센터 짓는다\">[단독] <mark>삼성전자</mark>, 8년만에 반도체 R&amp;D센터 짓는다</a>, <a class=\"news_tit\" href=\"http://www.newsis.com/view/?id=NISX20220628_0001922534&amp;cID=13001&amp;pID=13000\" onclick=\"return goOtherCR(this, 'a=nws*a.tit&amp;r=9&amp;i=88000127_000000000000000011271516&amp;g=003.0011271516&amp;u='+urlencode(this.href));\" target=\"_blank\" title=\"삼성전자 '에코라이프랩', 국제 바이러스 시험소 인증\"><mark>삼성전자</mark> '에코라이프랩', 국제 바이러스 시험소 인증</a>, <a class=\"news_tit\" href=\"https://www.insight.co.kr/news/401608\" onclick=\"return goOtherCR(this, 'a=nws*b.tit&amp;r=13&amp;i=88172c03_000000000000000000215880&amp;g=5486.0000215880&amp;u='+urlencode(this.href));\" target=\"_blank\" title=\"삼성전자, 여름철 맞아 '스마트싱스 에너지' 서비스 강화한다\"><mark>삼성전자</mark>, 여름철 맞아 '스마트싱스 에너지' 서비스 강화한다</a>, <a class=\"news_tit\" href=\"https://biz.chosun.com/it-science/ict/2022/06/29/R6HXKBFUDFGKLGWF63WPEEA2B4/?utm_source=naver&amp;utm_medium=original&amp;utm_campaign=biz\" onclick=\"return goOtherCR(this, 'a=nws*j.tit&amp;r=16&amp;i=88127058_000000000000000000823926&amp;g=366.0000823926&amp;u='+urlencode(this.href));\" target=\"_blank\" title=\"게이밍 모니터 공들이는 삼성·LG… 작년 출하량 31% 증가\">게이밍 모니터 공들이는 <mark>삼성</mark>·LG… 작년 출하량 31% 증가</a>, <a class=\"news_tit\" href=\"http://news.mk.co.kr/newsRead.php?no=570712&amp;year=2022\" onclick=\"return goOtherCR(this, 'a=nws*j.tit&amp;r=17&amp;i=880000BC_000000000000000004984614&amp;g=009.0004984614&amp;u='+urlencode(this.href));\" target=\"_blank\" title=\"삼성 LG 창문에어컨 공세에도…굳건한 이 회사\"><mark>삼성</mark> LG 창문에어컨 공세에도…굳건한 이 회사</a>, <a class=\"news_tit\" href=\"https://www.yna.co.kr/view/AKR20220628074700062?input=1195m\" onclick=\"return goOtherCR(this, 'a=nws*a.tit&amp;r=18&amp;i=880000D8_000000000000000013273519&amp;g=001.0013273519&amp;u='+urlencode(this.href));\" target=\"_blank\" title=\"민선8기 강원 경제부지사에 정광열 삼성전자 부사장 내정\">민선8기 강원 경제부지사에 정광열 <mark>삼성전자</mark> 부사장 내정</a>, <a class=\"news_tit\" href=\"https://biz.sbs.co.kr/article_hub/20000068934?division=NAVER\" onclick=\"return goOtherCR(this, 'a=nws*j.tit&amp;r=23&amp;i=8811AD97_000000000000000000292018&amp;g=374.0000292018&amp;u='+urlencode(this.href));\" target=\"_blank\" title=\"KG, 쌍용차 인수 가닥…삼성·SK 메모리 공정 일부 공개\">KG, 쌍용차 인수 가닥…<mark>삼성</mark>·SK 메모리 공정 일부 공개</a>]\n",
            "\"1나노 차이가 초격차 만든다\" 삼성 양산 앞둔 '3나노 반도체'는? http://news.mk.co.kr/newsRead.php?no=571007&year=2022\n",
            "삼성전자-하이닉스, '임금 경쟁' 치열…2년만에 초봉 700만원↑ https://www.yna.co.kr/view/AKR20220628164900003?input=1195m\n",
            "\"올 여름도 수요 걱정 없다\"…200만대 넘게 팔린 삼성 가전 https://www.hankyung.com/economy/article/202206281413g\n",
            "[단독] 삼성전자, 8년만에 반도체 R&D센터 짓는다 https://www.sedaily.com/NewsView/267FONMH0M\n",
            "삼성전자 '에코라이프랩', 국제 바이러스 시험소 인증 http://www.newsis.com/view/?id=NISX20220628_0001922534&cID=13001&pID=13000\n",
            "삼성전자, 여름철 맞아 '스마트싱스 에너지' 서비스 강화한다 https://www.insight.co.kr/news/401608\n",
            "게이밍 모니터 공들이는 삼성·LG… 작년 출하량 31% 증가 https://biz.chosun.com/it-science/ict/2022/06/29/R6HXKBFUDFGKLGWF63WPEEA2B4/?utm_source=naver&utm_medium=original&utm_campaign=biz\n",
            "삼성 LG 창문에어컨 공세에도…굳건한 이 회사 http://news.mk.co.kr/newsRead.php?no=570712&year=2022\n",
            "민선8기 강원 경제부지사에 정광열 삼성전자 부사장 내정 https://www.yna.co.kr/view/AKR20220628074700062?input=1195m\n",
            "KG, 쌍용차 인수 가닥…삼성·SK 메모리 공정 일부 공개 https://biz.sbs.co.kr/article_hub/20000068934?division=NAVER\n",
            "3페이지 ======================\n",
            "[<a class=\"news_tit\" href=\"https://www.news1.kr/articles/?4724798\" onclick=\"return goOtherCR(this, 'a=nws*a.tit&amp;r=1&amp;i=08138263_000000000000000006183197&amp;g=421.0006183197&amp;u='+urlencode(this.href));\" target=\"_blank\" title=\"삼성전자, 제품 내 바이러스까지 직접 잡는다\"><mark>삼성전자</mark>, 제품 내 바이러스까지 직접 잡는다</a>, <a class=\"news_tit\" href=\"https://biz.chosun.com/it-science/ict/2022/06/27/FIG42AG6VNARNDUMIFK6NVNQDA/?utm_source=naver&amp;utm_medium=original&amp;utm_campaign=biz\" onclick=\"return goOtherCR(this, 'a=nws*j.tit&amp;r=5&amp;i=88127058_000000000000000000823434&amp;g=366.0000823434&amp;u='+urlencode(this.href));\" target=\"_blank\" title=\"삼성전자, 세계 최초 4K 240㎐ 게이밍 모니터 ‘네오 G8’ 출시\"><mark>삼성전자</mark>, 세계 최초 4K 240㎐ 게이밍 모니터 ‘네오 G8’ 출시</a>, <a class=\"news_tit\" href=\"https://www.ytn.co.kr/_ln/0102_202206291712488595\" onclick=\"return goOtherCR(this, 'a=nws*a.tit&amp;r=6&amp;i=880000AF_000000000000000001757791&amp;g=052.0001757791&amp;u='+urlencode(this.href));\" target=\"_blank\" title=\"[기업] &quot;AI로 전력 관리&quot;...삼성 '스마트싱스 에너지' 지원 관리 확대\">[기업] \"AI로 전력 관리\"...<mark>삼성</mark> '스마트싱스 에너지' 지원 관리 확대</a>, <a class=\"news_tit\" href=\"http://www.dt.co.kr/contents.html?article_no=2022062902109931731003&amp;ref=naver\" onclick=\"return goOtherCR(this, 'a=nws*e.tit&amp;r=8&amp;i=880000AD_000000000000000002741409&amp;g=029.0002741409&amp;u='+urlencode(this.href));\" target=\"_blank\" title=\"삼성전자 반도체 장비 소부장 기업 지원\"><mark>삼성전자</mark> 반도체 장비 소부장 기업 지원</a>, <a class=\"news_tit\" href=\"http://news.mt.co.kr/mtview.php?no=2022062919122392835\" onclick=\"return goOtherCR(this, 'a=nws*e.tit&amp;r=9&amp;i=880000C2_000000000000000004764814&amp;g=008.0004764814&amp;u='+urlencode(this.href));\" target=\"_blank\" title=\"반도체 전쟁 급한데…삼성, 300억 장비 15억에 연구소 준 까닭\">반도체 전쟁 급한데…<mark>삼성</mark>, 300억 장비 15억에 연구소 준 까닭</a>, <a class=\"news_tit\" href=\"https://www.sedaily.com/NewsView/267F7BEJ0N\" onclick=\"return goOtherCR(this, 'a=nws*h.tit&amp;r=10&amp;i=88000108_000000000000000004070168&amp;g=011.0004070168&amp;u='+urlencode(this.href));\" target=\"_blank\" title=\"[단독] 삼성전자, 30일부터 3나노 반도체 양산 돌입\">[단독] <mark>삼성전자</mark>, 30일부터 3나노 반도체 양산 돌입</a>, <a class=\"news_tit\" href=\"http://www.inews24.com/view/1495406\" onclick=\"return goOtherCR(this, 'a=nws*a.tit&amp;r=13&amp;i=880000D6_000000000000000000682005&amp;g=031.0000682005&amp;u='+urlencode(this.href));\" target=\"_blank\" title=\"삼성전자, OLED 재료 업체 사이노라에 3억 弗 투자\"><mark>삼성전자</mark>, OLED 재료 업체 사이노라에 3억 弗 투자</a>, <a class=\"news_tit\" href=\"http://news.mk.co.kr/newsRead.php?no=570716&amp;year=2022\" onclick=\"return goOtherCR(this, 'a=nws*e.tit&amp;r=16&amp;i=880000BC_000000000000000004984618&amp;g=009.0004984618&amp;u='+urlencode(this.href));\" target=\"_blank\" title=\"중기부·삼성전자 '팹리스 육성' 맞손\">중기부·<mark>삼성전자</mark> '팹리스 육성' 맞손</a>, <a class=\"news_tit\" href=\"http://www.newsis.com/view/?id=NISX20220628_0001923686&amp;cID=13001&amp;pID=13000\" onclick=\"return goOtherCR(this, 'a=nws*e.tit&amp;r=17&amp;i=88000127_000000000000000011273312&amp;g=003.0011273312&amp;u='+urlencode(this.href));\" target=\"_blank\" title=\"가전업계 소비 부진…삼성·LG '프리미엄' 승부수\">가전업계 소비 부진…<mark>삼성</mark>·LG '프리미엄' 승부수</a>, <a class=\"news_tit\" href=\"https://news.kbs.co.kr/news/view.do?ncd=5497304&amp;ref=A\" onclick=\"return goOtherCR(this, 'a=nws*e.tit&amp;r=18&amp;i=88000114_000000000000000011292673&amp;g=056.0011292673&amp;u='+urlencode(this.href));\" target=\"_blank\" title=\"강원도 경제부지사에 정광열 삼성전자 부사장 내정\">강원도 경제부지사에 정광열 <mark>삼성전자</mark> 부사장 내정</a>]\n",
            "삼성전자, 제품 내 바이러스까지 직접 잡는다 https://www.news1.kr/articles/?4724798\n",
            "삼성전자, 세계 최초 4K 240㎐ 게이밍 모니터 ‘네오 G8’ 출시 https://biz.chosun.com/it-science/ict/2022/06/27/FIG42AG6VNARNDUMIFK6NVNQDA/?utm_source=naver&utm_medium=original&utm_campaign=biz\n",
            "[기업] \"AI로 전력 관리\"...삼성 '스마트싱스 에너지' 지원 관리 확대 https://www.ytn.co.kr/_ln/0102_202206291712488595\n",
            "삼성전자 반도체 장비 소부장 기업 지원 http://www.dt.co.kr/contents.html?article_no=2022062902109931731003&ref=naver\n",
            "반도체 전쟁 급한데…삼성, 300억 장비 15억에 연구소 준 까닭 http://news.mt.co.kr/mtview.php?no=2022062919122392835\n",
            "[단독] 삼성전자, 30일부터 3나노 반도체 양산 돌입 https://www.sedaily.com/NewsView/267F7BEJ0N\n",
            "삼성전자, OLED 재료 업체 사이노라에 3억 弗 투자 http://www.inews24.com/view/1495406\n",
            "중기부·삼성전자 '팹리스 육성' 맞손 http://news.mk.co.kr/newsRead.php?no=570716&year=2022\n",
            "가전업계 소비 부진…삼성·LG '프리미엄' 승부수 http://www.newsis.com/view/?id=NISX20220628_0001923686&cID=13001&pID=13000\n",
            "강원도 경제부지사에 정광열 삼성전자 부사장 내정 https://news.kbs.co.kr/news/view.do?ncd=5497304&ref=A\n"
          ]
        }
      ]
    },
    {
      "cell_type": "code",
      "source": [
        ""
      ],
      "metadata": {
        "id": "Q0eP-mni7Dc2"
      },
      "execution_count": null,
      "outputs": []
    }
  ]
}